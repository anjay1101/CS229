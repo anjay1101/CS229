{
 "cells": [
  {
   "cell_type": "markdown",
   "metadata": {},
   "source": [
    "# CS 229 \n",
    "## PS 2.2 – Spam Classification\n"
   ]
  },
  {
   "cell_type": "markdown",
   "metadata": {},
   "source": [
    "Code can be found in <u>spam.py</u>"
   ]
  },
  {
   "cell_type": "markdown",
   "metadata": {},
   "source": [
    "**(a)** <br>\n",
    "Size of dictionary: 1721 \n",
    "\n",
    "**(b)** <br>\n",
    "To handle the underflow error from multiply probabilities together, it is valuable to note that $\\prod_{i=1}^n P(x_i) = \\exp({\\log (\\prod_{i=1}^n P(x_i))}) = \\exp({\\sum_{i=1}^n (\\log P(x_i))}) $\n",
    "\n",
    "Thus the class that is more likely will be the one that has a larger sum of the log probabilities.\n",
    "\n",
    "**Test set accuracy:** 0.978494623655914\n",
    "\n",
    "\n",
    "**(c)** <br>\n",
    "The top 5 indicative words for Naive Bayes are:  ['claim' 'won' 'prize' 'tone' 'urgent!']\n",
    "\n",
    "**(d)** <br>\n",
    "The optimal SVM radius was 10\n",
    "The SVM model had an accuracy of 0.8799283154121864 on the testing set\n"
   ]
  },
  {
   "cell_type": "code",
   "execution_count": 2,
   "metadata": {},
   "outputs": [],
   "source": [
    "import numpy as np"
   ]
  },
  {
   "cell_type": "code",
   "execution_count": 2,
   "metadata": {},
   "outputs": [],
   "source": [
    "import spam"
   ]
  },
  {
   "cell_type": "code",
   "execution_count": 3,
   "metadata": {},
   "outputs": [
    {
     "name": "stdout",
     "output_type": "stream",
     "text": [
      "Size of dictionary:  1721\n",
      "Naive Bayes had an accuracy of 0.978494623655914 on the testing set\n",
      "The top 5 indicative words for Naive Bayes are:  ['claim', 'won', 'prize', 'tone', 'urgent!']\n",
      "The optimal SVM radius was 10\n",
      "The SVM model had an accuracy of 0.8799283154121864 on the testing set\n"
     ]
    }
   ],
   "source": [
    "spam.main()"
   ]
  },
  {
   "cell_type": "code",
   "execution_count": 20,
   "metadata": {},
   "outputs": [],
   "source": [
    "def get_words(message):\n",
    "    \"\"\"Get the normalized list of words from a message string.\n",
    "\n",
    "    This function should split a message into words, normalize them, and return\n",
    "    the resulting list. For splitting, you should split on spaces. For normalization,\n",
    "    you should convert everything to lowercase.\n",
    "\n",
    "    Args:\n",
    "        message: A string containing an SMS message\n",
    "\n",
    "    Returns:\n",
    "       The list of normalized words from the message.\n",
    "    \"\"\"\n",
    "\n",
    "    # *** START CODE HERE ***\n",
    "    words = message.split(' ')\n",
    "    norm_words = []\n",
    "    for idx,wrd in enumerate(words):\n",
    "        norm_words.append(wrd.lower()) if wrd != '' else None \n",
    "    return norm_words\n",
    "    # *** END CODE HERE ***\n",
    "\n",
    "\n",
    "def create_dictionary(messages):\n",
    "    \"\"\"Create a dictionary mapping words to integer indices.\n",
    "\n",
    "    This function should create a dictionary of word to indices using the provided\n",
    "    training messages. Use get_words to process each message.\n",
    "\n",
    "    Rare words are often not useful for modeling. Please only add words to the dictionary\n",
    "    if they occur in at least five messages.\n",
    "\n",
    "    Args:\n",
    "        messages: A list of strings containing SMS messages\n",
    "\n",
    "    Returns:\n",
    "        A python dict mapping words to integers.\n",
    "    \"\"\"\n",
    "\n",
    "    # *** START CODE HERE ***\n",
    "    #add all words to dictionary with a count for each of how many messages they appear in \n",
    "    word_count_dict = {}\n",
    "    for message in messages:\n",
    "        words = get_words(message)\n",
    "        words_appeared = set() #use set to store words seen in message so far \n",
    "        for word in words:\n",
    "            if word in word_count_dict and word not in words_appeared:\n",
    "                words_appeared.add(word)\n",
    "                word_count_dict[word] = word_count_dict[word] + 1\n",
    "            if word not in word_count_dict:\n",
    "                words_appeared.add(word)\n",
    "                word_count_dict[word] = 1 \n",
    "    \n",
    "        \n",
    "    #add words from previous dictionary if appear in 5+ messages \n",
    "    word_dict = {}\n",
    "    i=0\n",
    "    for word,ct in word_count_dict.items():\n",
    "        if ct>=5:\n",
    "            word_dict[word] = i #add to spam_dictionary\n",
    "            i+=1 \n",
    "    return word_dict  \n",
    "    \n",
    "    \n",
    "    \n",
    "    # *** END CODE HERE ***\n"
   ]
  },
  {
   "cell_type": "code",
   "execution_count": 41,
   "metadata": {},
   "outputs": [],
   "source": [
    "matrix = np.array([[3,2,1],[5,1,1],[0,2,7],[1,1,8]])\n",
    "labels = np.array([1,1,0,0])"
   ]
  },
  {
   "cell_type": "code",
   "execution_count": 52,
   "metadata": {},
   "outputs": [],
   "source": [
    "#compute phi_y estimate\n",
    "phi_y = np.mean(np.array(labels))\n",
    "#compute posterior probabilities\n",
    "phi_given_pos = np.ones(matrix.shape[1]) #since Laplace smoothing\n",
    "phi_given_neg = np.ones(matrix.shape[1])\n",
    "pos_denom = matrix.shape[1] #since Laplace smoothing\n",
    "\n",
    "neg_denom = matrix.shape[1]\n",
    "\n",
    "for i in range(matrix.shape[0]):\n",
    "    pos = (labels[i]==1)\n",
    "    if pos:\n",
    "        pos_denom+= np.sum(matrix[i]) #add d\n",
    "    else:\n",
    "        neg_denom+= np.sum(matrix[i]) #add d\n",
    "\n",
    "    #add number of that vocab that appear\n",
    "    if pos:\n",
    "        phi_given_pos += matrix[i]\n",
    "    else:\n",
    "        phi_given_neg += matrix[i]\n",
    "        \n",
    "phi_given_pos = phi_given_pos/pos_denom\n",
    "phi_given_neg = phi_given_neg/neg_denom\n",
    "\n",
    "#store all 3 in a dictionary\n",
    "dict_ = {}\n",
    "dict_['phi_y'] = phi_y\n",
    "dict_['phi_pos'] = phi_given_pos\n",
    "dict_['phi_neg'] = phi_given_neg\n",
    " \n",
    "\n",
    "# *** END CODE HERE ***"
   ]
  },
  {
   "cell_type": "code",
   "execution_count": 64,
   "metadata": {},
   "outputs": [],
   "source": [
    "model = dict_\n",
    "matrix = np.array([[3,1,1],[0,3,3],[0,1,7]])"
   ]
  },
  {
   "cell_type": "code",
   "execution_count": 65,
   "metadata": {},
   "outputs": [
    {
     "data": {
      "text/plain": [
       "array([1, 0, 0])"
      ]
     },
     "execution_count": 65,
     "metadata": {},
     "output_type": "execute_result"
    }
   ],
   "source": [
    "phi_y = model['phi_y']\n",
    "phi_pos = model['phi_pos']\n",
    "phi_neg = model['phi_neg']\n",
    "\n",
    "preds = []\n",
    "for x in range(matrix.shape[0]): #go through each test data \n",
    "    p_1 = np.log(phi_y)\n",
    "    p_0 = np.log(1-phi_y)\n",
    "    for v in range(matrix.shape[1]):\n",
    "        for i in range(matrix[x][v]):\n",
    "            p_1+= np.log(phi_pos[v]) #add all log probabilities \n",
    "            p_0+= np.log(phi_neg[v])\n",
    "    preds.append(1) if p_1 > p_0 else preds.append(0)\n",
    "\n",
    "preds = np.array(preds)\n",
    "preds"
   ]
  },
  {
   "cell_type": "code",
   "execution_count": 90,
   "metadata": {},
   "outputs": [
    {
     "data": {
      "text/plain": [
       "array([ 1.82253113,  0.31845373, -1.3555227 ])"
      ]
     },
     "execution_count": 90,
     "metadata": {},
     "output_type": "execute_result"
    }
   ],
   "source": [
    "phi_pos = model['phi_pos']\n",
    "phi_neg = model['phi_neg']\n",
    "\n",
    "metric = np.log(phi_pos) - np.log(phi_neg)\n",
    "top_five_sorted = np.flip(metric[np.argsort(metric)])\n",
    "top_five = top_five_sorted[:5]\n",
    "top_five"
   ]
  },
  {
   "cell_type": "code",
   "execution_count": 45,
   "metadata": {},
   "outputs": [
    {
     "data": {
      "text/plain": [
       "0.5"
      ]
     },
     "execution_count": 45,
     "metadata": {},
     "output_type": "execute_result"
    }
   ],
   "source": []
  },
  {
   "cell_type": "code",
   "execution_count": null,
   "metadata": {},
   "outputs": [],
   "source": []
  }
 ],
 "metadata": {
  "kernelspec": {
   "display_name": "Python 3",
   "language": "python",
   "name": "python3"
  },
  "language_info": {
   "codemirror_mode": {
    "name": "ipython",
    "version": 3
   },
   "file_extension": ".py",
   "mimetype": "text/x-python",
   "name": "python",
   "nbconvert_exporter": "python",
   "pygments_lexer": "ipython3",
   "version": "3.7.4"
  }
 },
 "nbformat": 4,
 "nbformat_minor": 4
}
